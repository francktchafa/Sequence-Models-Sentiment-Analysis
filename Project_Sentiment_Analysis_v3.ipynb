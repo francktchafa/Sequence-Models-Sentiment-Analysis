{
 "cells": [
  {
   "cell_type": "code",
   "source": [
    "\"\"\"\n",
    "Emojifier  v3 (Transformer-based model). \n",
    "The model takes a sentence as input and identifies a suitable emoji. \n",
    "Examples include:\n",
    "    Job well done! 👍\n",
    "    Let's get dinner and talk. 🍴\n",
    "    I love you! ❤️\n",
    "    Let's watch the baseball game tomorrow! ⚾️\n",
    "\"\"\"\n",
    "\n",
    "from utils_emojify import *\n",
    "import os\n",
    "import numpy as np\n",
    "import csv\n",
    "import tensorflow as tf\n",
    "from tensorflow.keras.optimizers import Adam\n",
    "from tensorflow.keras.losses import SparseCategoricalCrossentropy\n",
    "from tensorflow.keras.callbacks import ModelCheckpoint, EarlyStopping\n",
    "from matplotlib import pyplot as plt\n",
    "from transformers import DistilBertTokenizer, TFDistilBertForSequenceClassification\n",
    "\n",
    "%matplotlib inline\n",
    "seed = 42\n",
    "np.random.seed(seed)\n",
    "tf.random.set_seed(seed)"
   ],
   "metadata": {
    "ExecuteTime": {
     "end_time": "2025-04-28T18:06:04.788452Z",
     "start_time": "2025-04-28T18:05:59.446167Z"
    }
   },
   "id": "5ad4e43a226e6a4b",
   "outputs": [],
   "execution_count": 1
  },
  {
   "cell_type": "code",
   "id": "9229a5d4-b348-48f2-b715-f45558a0c419",
   "metadata": {
    "ExecuteTime": {
     "end_time": "2025-04-28T18:06:04.872855Z",
     "start_time": "2025-04-28T18:06:04.869420Z"
    }
   },
   "source": [
    "# LOAD THE DATASET\n",
    "train_data_path = os.path.join(os.getcwd(), 'data', 'train_emoji.csv')\n",
    "test_data_path = os.path.join(os.getcwd(), 'data', 'test_emoji.csv')\n",
    "\n",
    "\n",
    "def read_csv_file(filename):\n",
    "    \"\"\"\n",
    "    Reads a CSV file containing phrases and corresponding emojis, and converts them into numpy arrays.\n",
    "\n",
    "    Args:\n",
    "        filename (str): The path to the CSV file.\n",
    "\n",
    "    Returns:\n",
    "        X (numpy.ndarray): An array of phrases.\n",
    "        Y (numpy.ndarray): An array of corresponding emojis as integers.\n",
    "    \"\"\"\n",
    "    # Initialize lists to store phrases and corresponding emojis\n",
    "    phrases = []\n",
    "    emojis = []\n",
    "\n",
    "    # Open the CSV file\n",
    "    with open(filename, newline='') as csvDataFile:\n",
    "        csvReader = csv.reader(csvDataFile)\n",
    "\n",
    "        # Read each row in the CSV file\n",
    "        for row in csvReader:\n",
    "            # Append the phrase (first column) to the phrases list\n",
    "            phrases.append(row[0])\n",
    "            # Append the emoji (second column) to the emojis list\n",
    "            emojis.append(row[1])\n",
    "\n",
    "    # Convert the lists to numpy arrays\n",
    "    X = np.asarray(phrases)\n",
    "    Y = np.asarray(emojis, dtype=int)\n",
    "    return X, Y\n",
    "\n",
    "X_train, Y_train = read_csv_reader(train_data_path)\n",
    "X_test, Y_test = read_csv_reader(test_data_path)"
   ],
   "outputs": [],
   "execution_count": 2
  },
  {
   "cell_type": "code",
   "id": "4cf691ed-d3b6-42b1-b883-d4428b42832e",
   "metadata": {
    "ExecuteTime": {
     "end_time": "2025-04-28T18:06:04.880321Z",
     "start_time": "2025-04-28T18:06:04.878511Z"
    }
   },
   "source": [
    "# Look at some examples in the dataset\n",
    "for idx in range(5):\n",
    "    print(X_train[idx], convert_label_to_emoji(Y_train[idx]))"
   ],
   "outputs": [
    {
     "name": "stdout",
     "output_type": "stream",
     "text": [
      "never talk to me again 😞\n",
      "I am proud of your achievements 😄\n",
      "It is the worst day in my life 😞\n",
      "Miss you so much ❤️\n",
      "food is life 🍴\n"
     ]
    }
   ],
   "execution_count": 3
  },
  {
   "cell_type": "code",
   "id": "64fd575c16964ae3",
   "metadata": {
    "collapsed": false,
    "ExecuteTime": {
     "end_time": "2025-04-28T18:06:04.894161Z",
     "start_time": "2025-04-28T18:06:04.891973Z"
    }
   },
   "source": [
    "X_train = np.asarray([X_train[i].lower() for i in range(len(X_train))])\n",
    "X_test = np.asarray([X_test[i].lower() for i in range(len(X_test))])\n",
    "for idx in range(5):\n",
    "    print(X_train[idx], convert_label_to_emoji(Y_train[idx]))"
   ],
   "outputs": [
    {
     "name": "stdout",
     "output_type": "stream",
     "text": [
      "never talk to me again 😞\n",
      "i am proud of your achievements 😄\n",
      "it is the worst day in my life 😞\n",
      "miss you so much ❤️\n",
      "food is life 🍴\n"
     ]
    }
   ],
   "execution_count": 4
  },
  {
   "cell_type": "code",
   "source": [
    "# Note that the sentences have different lengths. Most DL frameworks require that all sequences\n",
    "# in the same mini-batch have the same length. Padding or truncation is needed.\n",
    "maxLen = len(max(X_train, key=lambda x: len(x.split())).split())  # Find the length of the longest sentence.\n",
    "print(f\"The length of the longest sentence in the training set: {maxLen}\")"
   ],
   "metadata": {
    "ExecuteTime": {
     "end_time": "2025-04-28T18:06:04.908860Z",
     "start_time": "2025-04-28T18:06:04.906722Z"
    }
   },
   "id": "ceb152cd-4867-4676-9b1c-ee06a4788f71",
   "outputs": [
    {
     "name": "stdout",
     "output_type": "stream",
     "text": [
      "The length of the longest sentence in the training set: 10\n"
     ]
    }
   ],
   "execution_count": 5
  },
  {
   "cell_type": "code",
   "id": "6bdc29ea-b1c8-4f28-9fd0-62e261c373f5",
   "metadata": {
    "ExecuteTime": {
     "end_time": "2025-04-28T18:06:05.130779Z",
     "start_time": "2025-04-28T18:06:04.925501Z"
    }
   },
   "source": [
    "# TOKENIZING SENTENCES\n",
    "# Let's tokenize and pad the sequences to the desired length.\n",
    "# Tokenizer\n",
    "dbert_tokenizer = DistilBertTokenizer.from_pretrained(\"distilbert-base-uncased\")\n",
    "dbert_tokenizer.clean_up_tokenization_spaces = True  # Remove unnecessary spaces, ensuring cleaner text output\n",
    "\n",
    "def tokenize_sentences(tokenizer, X, return_tf=True, max_len=None):\n",
    "    \"\"\"\n",
    "    Tokenizes a list of sentences or text using the provided tokenizer.\n",
    "\n",
    "    Parameters:\n",
    "    - tokenizer: Tokenizer object (e.g., HuggingFace tokenizer).\n",
    "    - X: List of sentences or text to be tokenized.\n",
    "    - return_tf: Boolean. If True, returns tokenized tensors in TensorFlow format (default is True).\n",
    "    - max_len: Integer. Maximum sequence length for truncation and padding. \n",
    "               If None, uses the tokenizer's default model max length.\n",
    "\n",
    "    Returns:\n",
    "    - X_tokens: Tokenized output with truncation, padding, and optional TensorFlow tensors.\n",
    "    \"\"\"\n",
    "    # Perform tokenization with the selected settings\n",
    "    X_tokens = tokenizer(\n",
    "        text=X,\n",
    "        truncation=True,  # Ensure truncation for sequences exceeding max_len\n",
    "        padding=\"max_length\" if max_len else True,  # Explicit padding to max_len or dynamic padding\n",
    "        max_length=max_len if max_len else tokenizer.model_max_length,  # Use max_len or model's default max length\n",
    "        return_tensors=\"tf\" if return_tf else None\n",
    "    )\n",
    "\n",
    "    return X_tokens"
   ],
   "outputs": [],
   "execution_count": 6
  },
  {
   "cell_type": "code",
   "id": "4748975f1400f55e",
   "metadata": {
    "ExecuteTime": {
     "end_time": "2025-04-28T18:06:05.140420Z",
     "start_time": "2025-04-28T18:06:05.137567Z"
    }
   },
   "source": [
    "#  Verification\n",
    "dummy = [\"funny lol\", \"let's play baseball\", \"food is ready for you\"]\n",
    "dummy_tokens = tokenize_sentences(dbert_tokenizer, dummy, return_tf=False, max_len=10)\n",
    "print(\"Sentences:\\n\", dummy)\n",
    "print(\"Sentence indices:\\n\", dummy_tokens)"
   ],
   "outputs": [
    {
     "name": "stdout",
     "output_type": "stream",
     "text": [
      "Sentences:\n",
      " ['funny lol', \"let's play baseball\", 'food is ready for you']\n",
      "Sentence indices:\n",
      " {'input_ids': [[101, 6057, 8840, 2140, 102, 0, 0, 0, 0, 0], [101, 2292, 1005, 1055, 2377, 3598, 102, 0, 0, 0], [101, 2833, 2003, 3201, 2005, 2017, 102, 0, 0, 0]], 'attention_mask': [[1, 1, 1, 1, 1, 0, 0, 0, 0, 0], [1, 1, 1, 1, 1, 1, 1, 0, 0, 0], [1, 1, 1, 1, 1, 1, 1, 0, 0, 0]]}\n"
     ]
    }
   ],
   "execution_count": 7
  },
  {
   "cell_type": "code",
   "id": "4a7bb860-09b6-4f1a-a0f1-fde7764983da",
   "metadata": {
    "ExecuteTime": {
     "end_time": "2025-04-28T18:06:05.155211Z",
     "start_time": "2025-04-28T18:06:05.148747Z"
    }
   },
   "source": [
    "import pandas as pd\n",
    "dummy_df = pd.DataFrame({key: pd.Series(value) for key, value in dummy_tokens.items()})\n",
    "dummy_df"
   ],
   "outputs": [
    {
     "data": {
      "text/plain": [
       "                                           input_ids  \\\n",
       "0        [101, 6057, 8840, 2140, 102, 0, 0, 0, 0, 0]   \n",
       "1  [101, 2292, 1005, 1055, 2377, 3598, 102, 0, 0, 0]   \n",
       "2  [101, 2833, 2003, 3201, 2005, 2017, 102, 0, 0, 0]   \n",
       "\n",
       "                   attention_mask  \n",
       "0  [1, 1, 1, 1, 1, 0, 0, 0, 0, 0]  \n",
       "1  [1, 1, 1, 1, 1, 1, 1, 0, 0, 0]  \n",
       "2  [1, 1, 1, 1, 1, 1, 1, 0, 0, 0]  "
      ],
      "text/html": [
       "<div>\n",
       "<style scoped>\n",
       "    .dataframe tbody tr th:only-of-type {\n",
       "        vertical-align: middle;\n",
       "    }\n",
       "\n",
       "    .dataframe tbody tr th {\n",
       "        vertical-align: top;\n",
       "    }\n",
       "\n",
       "    .dataframe thead th {\n",
       "        text-align: right;\n",
       "    }\n",
       "</style>\n",
       "<table border=\"1\" class=\"dataframe\">\n",
       "  <thead>\n",
       "    <tr style=\"text-align: right;\">\n",
       "      <th></th>\n",
       "      <th>input_ids</th>\n",
       "      <th>attention_mask</th>\n",
       "    </tr>\n",
       "  </thead>\n",
       "  <tbody>\n",
       "    <tr>\n",
       "      <th>0</th>\n",
       "      <td>[101, 6057, 8840, 2140, 102, 0, 0, 0, 0, 0]</td>\n",
       "      <td>[1, 1, 1, 1, 1, 0, 0, 0, 0, 0]</td>\n",
       "    </tr>\n",
       "    <tr>\n",
       "      <th>1</th>\n",
       "      <td>[101, 2292, 1005, 1055, 2377, 3598, 102, 0, 0, 0]</td>\n",
       "      <td>[1, 1, 1, 1, 1, 1, 1, 0, 0, 0]</td>\n",
       "    </tr>\n",
       "    <tr>\n",
       "      <th>2</th>\n",
       "      <td>[101, 2833, 2003, 3201, 2005, 2017, 102, 0, 0, 0]</td>\n",
       "      <td>[1, 1, 1, 1, 1, 1, 1, 0, 0, 0]</td>\n",
       "    </tr>\n",
       "  </tbody>\n",
       "</table>\n",
       "</div>"
      ]
     },
     "execution_count": 8,
     "metadata": {},
     "output_type": "execute_result"
    }
   ],
   "execution_count": 8
  },
  {
   "cell_type": "code",
   "id": "97b0d45959c1d37c",
   "metadata": {
    "ExecuteTime": {
     "end_time": "2025-04-28T18:06:05.200308Z",
     "start_time": "2025-04-28T18:06:05.179165Z"
    }
   },
   "source": [
    "# Tokenize input data\n",
    "X_train_tok  = tokenize_sentences(dbert_tokenizer, X_train.tolist())\n",
    "X_test_tok = tokenize_sentences(dbert_tokenizer, X_test.tolist())\n",
    "print(\"Input sequence length:\", X_train_tok['input_ids'].shape[1])"
   ],
   "outputs": [
    {
     "name": "stdout",
     "output_type": "stream",
     "text": [
      "Input sequence length: 13\n"
     ]
    }
   ],
   "execution_count": 9
  },
  {
   "metadata": {
    "ExecuteTime": {
     "end_time": "2025-04-28T18:06:05.228535Z",
     "start_time": "2025-04-28T18:06:05.225044Z"
    }
   },
   "cell_type": "code",
   "source": [
    "# One-hot encoding the targets\n",
    "C = len(label_to_emoji_dict.keys())  # Number of classes\n",
    "Y_train = tf.convert_to_tensor(Y_train, dtype=tf.int32)\n",
    "Y_test = tf.convert_to_tensor(Y_test, dtype=tf.int32)\n",
    "\n",
    "# Verification\n",
    "idx = 10\n",
    "print(f\"The sentence '{X_train[idx]}' has label index '{Y_train[idx]}',\"\n",
    "      f\" which is emoji {convert_label_to_emoji(int(Y_train[idx]))}\", )"
   ],
   "id": "72f29cd9-e46d-4bdb-88ec-0f5df181133d",
   "outputs": [
    {
     "name": "stdout",
     "output_type": "stream",
     "text": [
      "The sentence 'she did not answer my text ' has label index '3', which is emoji 😞\n"
     ]
    }
   ],
   "execution_count": 10
  },
  {
   "cell_type": "code",
   "id": "46ba1ff5651ce196",
   "metadata": {
    "collapsed": false,
    "ExecuteTime": {
     "end_time": "2025-04-28T18:07:40.302571Z",
     "start_time": "2025-04-28T18:07:39.458229Z"
    }
   },
   "source": [
    "# BUILDING THE MODEL AND TRAINING THE MODEL\n",
    "from tf_keras.optimizers import Adam\n",
    "\n",
    "model = TFDistilBertForSequenceClassification.from_pretrained(\"distilbert-base-uncased\", num_labels=C)\n",
    "# Initialize optimizer with specific learning rate\n",
    "optimizer = Adam(learning_rate=1e-5)\n",
    "\n",
    "# Define loss\n",
    "loss = SparseCategoricalCrossentropy(from_logits=True)\n",
    "\n",
    "# Compile the model with optimizer configuration\n",
    "model.compile(\n",
    "    optimizer=optimizer,\n",
    "    loss=SparseCategoricalCrossentropy(from_logits=True),\n",
    "    metrics=['accuracy']\n",
    ")"
   ],
   "outputs": [
    {
     "name": "stderr",
     "output_type": "stream",
     "text": [
      "Some weights of the PyTorch model were not used when initializing the TF 2.0 model TFDistilBertForSequenceClassification: ['vocab_layer_norm.bias', 'vocab_transform.weight', 'vocab_projector.bias', 'vocab_layer_norm.weight', 'vocab_transform.bias']\n",
      "- This IS expected if you are initializing TFDistilBertForSequenceClassification from a PyTorch model trained on another task or with another architecture (e.g. initializing a TFBertForSequenceClassification model from a BertForPreTraining model).\n",
      "- This IS NOT expected if you are initializing TFDistilBertForSequenceClassification from a PyTorch model that you expect to be exactly identical (e.g. initializing a TFBertForSequenceClassification model from a BertForSequenceClassification model).\n",
      "Some weights or buffers of the TF 2.0 model TFDistilBertForSequenceClassification were not initialized from the PyTorch model and are newly initialized: ['pre_classifier.weight', 'pre_classifier.bias', 'classifier.weight', 'classifier.bias']\n",
      "You should probably TRAIN this model on a down-stream task to be able to use it for predictions and inference.\n",
      "WARNING:absl:At this time, the v2.11+ optimizer `tf.keras.optimizers.Adam` runs slowly on M1/M2 Macs, please use the legacy TF-Keras optimizer instead, located at `tf.keras.optimizers.legacy.Adam`.\n"
     ]
    }
   ],
   "execution_count": 18
  },
  {
   "cell_type": "code",
   "source": [
    "# Callbacks\n",
    "from tf_keras.callbacks import ModelCheckpoint, EarlyStopping, ReduceLROnPlateau\n",
    "chk_pt_path = os.path.join(os.getcwd(), \"model\", \"best_model.h5\")\n",
    "check_point = ModelCheckpoint(\n",
    "    filepath=chk_pt_path,       # Path to save the model\n",
    "    monitor='val_loss',         # Monitor the training loss instead of validation loss\n",
    "    save_best_only=True,        # Save only when the monitored metric improves\n",
    "    save_weights_only=True,     # Saves the model/weights only\n",
    "    verbose=0\n",
    ")\n",
    "\n",
    "reduce_lr = ReduceLROnPlateau(monitor='val_loss', factor=0.2, patience=5, min_lr=1e-6)\n",
    "early_stopping = EarlyStopping(monitor='val_loss', patience=10, restore_best_weights=True)\n",
    "callbacks = [check_point, early_stopping, reduce_lr]"
   ],
   "metadata": {
    "ExecuteTime": {
     "end_time": "2025-04-28T18:07:40.322990Z",
     "start_time": "2025-04-28T18:07:40.316845Z"
    }
   },
   "id": "aeef4fb2-b751-4514-a91b-517584064a4a",
   "outputs": [],
   "execution_count": 19
  },
  {
   "cell_type": "code",
   "id": "f859ebc9-d9cf-4ee1-96af-3b1641330b63",
   "metadata": {
    "ExecuteTime": {
     "end_time": "2025-04-28T18:07:43.851889Z",
     "start_time": "2025-04-28T18:07:43.845620Z"
    }
   },
   "source": [
    "train_dataset = tf.data.Dataset.from_tensor_slices((dict(X_train_tok), Y_train)).batch(8)\n",
    "test_dataset = tf.data.Dataset.from_tensor_slices((dict(X_test_tok), Y_test)).batch(8)"
   ],
   "outputs": [],
   "execution_count": 20
  },
  {
   "cell_type": "code",
   "id": "fff9b8e2-5169-409a-93ad-1b6f1d597a04",
   "metadata": {
    "ExecuteTime": {
     "end_time": "2025-04-28T18:09:32.333600Z",
     "start_time": "2025-04-28T18:07:45.144519Z"
    }
   },
   "source": [
    "# Train the model\n",
    "history = model.fit(train_dataset, validation_data=test_dataset, epochs=30, callbacks=callbacks)"
   ],
   "outputs": [
    {
     "name": "stdout",
     "output_type": "stream",
     "text": [
      "Epoch 1/30\n",
      "17/17 [==============================] - 8s 220ms/step - loss: 1.8021 - accuracy: 0.1894 - val_loss: 1.7262 - val_accuracy: 0.2982 - lr: 1.0000e-05\n",
      "Epoch 2/30\n",
      "17/17 [==============================] - 3s 186ms/step - loss: 1.6819 - accuracy: 0.2803 - val_loss: 1.6077 - val_accuracy: 0.3158 - lr: 1.0000e-05\n",
      "Epoch 3/30\n",
      "17/17 [==============================] - 3s 184ms/step - loss: 1.5708 - accuracy: 0.3788 - val_loss: 1.4986 - val_accuracy: 0.4035 - lr: 1.0000e-05\n",
      "Epoch 4/30\n",
      "17/17 [==============================] - 3s 190ms/step - loss: 1.4053 - accuracy: 0.5379 - val_loss: 1.3611 - val_accuracy: 0.5263 - lr: 1.0000e-05\n",
      "Epoch 5/30\n",
      "17/17 [==============================] - 3s 199ms/step - loss: 1.2222 - accuracy: 0.7424 - val_loss: 1.1841 - val_accuracy: 0.6491 - lr: 1.0000e-05\n",
      "Epoch 6/30\n",
      "17/17 [==============================] - 3s 198ms/step - loss: 1.0087 - accuracy: 0.8636 - val_loss: 0.9876 - val_accuracy: 0.8246 - lr: 1.0000e-05\n",
      "Epoch 7/30\n",
      "17/17 [==============================] - 4s 213ms/step - loss: 0.7890 - accuracy: 0.9924 - val_loss: 0.7953 - val_accuracy: 0.8947 - lr: 1.0000e-05\n",
      "Epoch 8/30\n",
      "17/17 [==============================] - 3s 201ms/step - loss: 0.5961 - accuracy: 0.9924 - val_loss: 0.6269 - val_accuracy: 0.9298 - lr: 1.0000e-05\n",
      "Epoch 9/30\n",
      "17/17 [==============================] - 5s 275ms/step - loss: 0.4456 - accuracy: 1.0000 - val_loss: 0.5191 - val_accuracy: 0.9474 - lr: 1.0000e-05\n",
      "Epoch 10/30\n",
      "17/17 [==============================] - 5s 280ms/step - loss: 0.3322 - accuracy: 1.0000 - val_loss: 0.4164 - val_accuracy: 0.9474 - lr: 1.0000e-05\n",
      "Epoch 11/30\n",
      "17/17 [==============================] - 4s 251ms/step - loss: 0.2635 - accuracy: 1.0000 - val_loss: 0.3554 - val_accuracy: 0.9649 - lr: 1.0000e-05\n",
      "Epoch 12/30\n",
      "17/17 [==============================] - 4s 210ms/step - loss: 0.2146 - accuracy: 1.0000 - val_loss: 0.3104 - val_accuracy: 0.9649 - lr: 1.0000e-05\n",
      "Epoch 13/30\n",
      "17/17 [==============================] - 4s 215ms/step - loss: 0.1750 - accuracy: 1.0000 - val_loss: 0.2818 - val_accuracy: 0.9649 - lr: 1.0000e-05\n",
      "Epoch 14/30\n",
      "17/17 [==============================] - 3s 203ms/step - loss: 0.1497 - accuracy: 1.0000 - val_loss: 0.2530 - val_accuracy: 0.9649 - lr: 1.0000e-05\n",
      "Epoch 15/30\n",
      "17/17 [==============================] - 3s 204ms/step - loss: 0.1289 - accuracy: 1.0000 - val_loss: 0.2365 - val_accuracy: 0.9649 - lr: 1.0000e-05\n",
      "Epoch 16/30\n",
      "17/17 [==============================] - 3s 190ms/step - loss: 0.1136 - accuracy: 1.0000 - val_loss: 0.2183 - val_accuracy: 0.9825 - lr: 1.0000e-05\n",
      "Epoch 17/30\n",
      "17/17 [==============================] - 3s 198ms/step - loss: 0.0978 - accuracy: 1.0000 - val_loss: 0.1964 - val_accuracy: 0.9825 - lr: 1.0000e-05\n",
      "Epoch 18/30\n",
      "17/17 [==============================] - 3s 181ms/step - loss: 0.0853 - accuracy: 1.0000 - val_loss: 0.1988 - val_accuracy: 0.9825 - lr: 1.0000e-05\n",
      "Epoch 19/30\n",
      "17/17 [==============================] - 3s 190ms/step - loss: 0.0780 - accuracy: 1.0000 - val_loss: 0.1827 - val_accuracy: 0.9825 - lr: 1.0000e-05\n",
      "Epoch 20/30\n",
      "17/17 [==============================] - 3s 194ms/step - loss: 0.0712 - accuracy: 1.0000 - val_loss: 0.1800 - val_accuracy: 0.9825 - lr: 1.0000e-05\n",
      "Epoch 21/30\n",
      "17/17 [==============================] - 3s 198ms/step - loss: 0.0660 - accuracy: 1.0000 - val_loss: 0.1776 - val_accuracy: 0.9649 - lr: 1.0000e-05\n",
      "Epoch 22/30\n",
      "17/17 [==============================] - 3s 191ms/step - loss: 0.0592 - accuracy: 1.0000 - val_loss: 0.1641 - val_accuracy: 0.9825 - lr: 1.0000e-05\n",
      "Epoch 23/30\n",
      "17/17 [==============================] - 3s 197ms/step - loss: 0.0552 - accuracy: 1.0000 - val_loss: 0.1593 - val_accuracy: 0.9825 - lr: 1.0000e-05\n",
      "Epoch 24/30\n",
      "17/17 [==============================] - 3s 182ms/step - loss: 0.0501 - accuracy: 1.0000 - val_loss: 0.1594 - val_accuracy: 0.9825 - lr: 1.0000e-05\n",
      "Epoch 25/30\n",
      "17/17 [==============================] - 3s 199ms/step - loss: 0.0475 - accuracy: 1.0000 - val_loss: 0.1550 - val_accuracy: 0.9825 - lr: 1.0000e-05\n",
      "Epoch 26/30\n",
      "17/17 [==============================] - 3s 195ms/step - loss: 0.0434 - accuracy: 1.0000 - val_loss: 0.1524 - val_accuracy: 0.9825 - lr: 1.0000e-05\n",
      "Epoch 27/30\n",
      "17/17 [==============================] - 3s 194ms/step - loss: 0.0402 - accuracy: 1.0000 - val_loss: 0.1483 - val_accuracy: 0.9825 - lr: 1.0000e-05\n",
      "Epoch 28/30\n",
      "17/17 [==============================] - 3s 188ms/step - loss: 0.0376 - accuracy: 1.0000 - val_loss: 0.1406 - val_accuracy: 0.9825 - lr: 1.0000e-05\n",
      "Epoch 29/30\n",
      "17/17 [==============================] - 3s 176ms/step - loss: 0.0367 - accuracy: 1.0000 - val_loss: 0.1432 - val_accuracy: 0.9825 - lr: 1.0000e-05\n",
      "Epoch 30/30\n",
      "17/17 [==============================] - 3s 188ms/step - loss: 0.0348 - accuracy: 1.0000 - val_loss: 0.1365 - val_accuracy: 0.9825 - lr: 1.0000e-05\n"
     ]
    }
   ],
   "execution_count": 21
  },
  {
   "metadata": {
    "ExecuteTime": {
     "end_time": "2025-04-28T18:09:49.953138Z",
     "start_time": "2025-04-28T18:09:49.950066Z"
    }
   },
   "cell_type": "code",
   "source": [
    "# Plot los\n",
    "def plot_history(hist):\n",
    "    \"\"\"\n",
    "    Plots training and validation loss and accuracy from the history object.\n",
    "\n",
    "    Arguments:\n",
    "        hist: Keras History object returned by model.fit().\n",
    "    \"\"\"\n",
    "    # Extract data from the history object\n",
    "    train_loss = hist.history['loss']\n",
    "    val_loss = hist.history['val_loss']\n",
    "\n",
    "    # Plot training and validation loss\n",
    "    plt.figure(figsize=(12, 5))\n",
    "    plt.plot(train_loss, label='Training Loss')\n",
    "    plt.plot(val_loss, label='Validation Loss')\n",
    "    plt.title('Loss Over Epochs')\n",
    "    plt.xlabel('Epochs')\n",
    "    plt.ylabel('Loss')\n",
    "    plt.legend()\n",
    "    plt.tight_layout()\n",
    "    plt.show()"
   ],
   "id": "1bf1d383c2fa8c3f",
   "outputs": [],
   "execution_count": 22
  },
  {
   "cell_type": "code",
   "source": "plot_history(history)",
   "metadata": {
    "collapsed": false,
    "ExecuteTime": {
     "end_time": "2025-04-28T18:09:52.490320Z",
     "start_time": "2025-04-28T18:09:52.405184Z"
    }
   },
   "id": "2184bc69c8158aa0",
   "outputs": [
    {
     "data": {
      "text/plain": [
       "<Figure size 1200x500 with 1 Axes>"
      ],
      "image/png": "[encoded data removed]"
     },
     "metadata": {},
     "output_type": "display_data"
    }
   ],
   "execution_count": 23
  },
  {
   "cell_type": "code",
   "source": [
    "# Evaluate the model\n",
    "model.load_weights(os.path.join(os.getcwd(), \"model\", \"best_model.h5\"))\n",
    "loss, accuracy = model.evaluate(test_dataset)\n",
    "print(f\"Test Loss: {loss}\")\n",
    "print(f\"Test Accuracy: {accuracy}\")"
   ],
   "metadata": {
    "collapsed": false,
    "ExecuteTime": {
     "end_time": "2025-04-28T18:09:56.424416Z",
     "start_time": "2025-04-28T18:09:56.036859Z"
    }
   },
   "id": "a7cca6323c21a43f",
   "outputs": [
    {
     "name": "stdout",
     "output_type": "stream",
     "text": [
      "8/8 [==============================] - 0s 30ms/step - loss: 0.1365 - accuracy: 0.9825\n",
      "Test Loss: 0.13646915555000305\n",
      "Test Accuracy: 0.9824561476707458\n"
     ]
    }
   ],
   "execution_count": 24
  },
  {
   "metadata": {
    "ExecuteTime": {
     "end_time": "2025-04-28T18:11:47.378252Z",
     "start_time": "2025-04-28T18:11:47.308570Z"
    }
   },
   "cell_type": "code",
   "source": [
    "# Make predictions on a single text\n",
    "sample_text = \"The movie was fantastic!\"\n",
    "sample_encodings = tokenize_sentences(dbert_tokenizer, sample_text.lower(), max_len=maxLen)\n",
    "logits = model(sample_encodings).logits\n",
    "predictions = tf.nn.softmax(logits, axis=-1)\n",
    "predicted_class = tf.argmax(predictions, axis=-1).numpy()[0]\n",
    "print(f\"Sample Text: {sample_text} \\nPredicted Sentiment Class: {label_to_emoji_dict[str(predicted_class)]}\")"
   ],
   "id": "9daab479fffce333",
   "outputs": [
    {
     "name": "stdout",
     "output_type": "stream",
     "text": [
      "Sample Text: The movie was fantastic! \n",
      "Predicted Sentiment Class: 😄\n"
     ]
    }
   ],
   "execution_count": 25
  },
  {
   "metadata": {
    "ExecuteTime": {
     "end_time": "2025-04-28T18:12:23.058247Z",
     "start_time": "2025-04-28T18:12:22.985389Z"
    }
   },
   "cell_type": "code",
   "source": [
    "some_sentences = [\n",
    "    \"I didn't enjoy the movie. It was too slow. \",\n",
    "    \"The movie was amazing!\",\n",
    "    \"Do you want to have dinner tomorrow?\",\n",
    "    \"I'm in love with the girl\",\n",
    "    \"Let's play baseball tomorrow!\",\n",
    "]\n",
    "sample_sentences = [some_sentences[i].lower() for i in range(len(some_sentences))]\n",
    "sentences_encodings = tokenize_sentences(dbert_tokenizer, sample_sentences, max_len=maxLen)\n",
    "logits = model(sentences_encodings).logits\n",
    "predictions = tf.nn.softmax(logits, axis=-1)\n",
    "predicted_classes = tf.argmax(predictions, axis=-1).numpy()\n",
    "\n",
    "for i in range(len(some_sentences)):\n",
    "    print(f\"{some_sentences[i]} -------- {label_to_emoji_dict[str(predicted_classes[i])]}\")\n"
   ],
   "id": "93bfd33e17a80f4",
   "outputs": [
    {
     "name": "stdout",
     "output_type": "stream",
     "text": [
      "I didn't enjoy the movie. It was too slow.  -------- 😞\n",
      "The movie was amazing! -------- 😄\n",
      "Do you want to have dinner tomorrow? -------- 🍴\n",
      "I'm in love with the girl -------- ❤️\n",
      "Let's play baseball tomorrow! -------- ⚾\n"
     ]
    }
   ],
   "execution_count": 26
  },
  {
   "metadata": {},
   "cell_type": "code",
   "outputs": [],
   "execution_count": null,
   "source": "",
   "id": "b5c1eced1a9b3935"
  }
 ],
 "metadata": {
  "kernelspec": {
   "display_name": "Python 3 (ipykernel)",
   "language": "python",
   "name": "python3"
  },
  "language_info": {
   "codemirror_mode": {
    "name": "ipython",
    "version": 3
   },
   "file_extension": ".py",
   "mimetype": "text/x-python",
   "name": "python",
   "nbconvert_exporter": "python",
   "pygments_lexer": "ipython3",
   "version": "3.12.0"
  }
 },
 "nbformat": 4,
 "nbformat_minor": 5
}
